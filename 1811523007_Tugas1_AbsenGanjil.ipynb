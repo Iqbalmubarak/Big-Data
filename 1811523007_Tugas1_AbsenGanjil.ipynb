{
  "nbformat": 4,
  "nbformat_minor": 0,
  "metadata": {
    "colab": {
      "name": "Untitled1.ipynb",
      "provenance": [],
      "authorship_tag": "ABX9TyM15DyiTpXqUXhCAkZRYoid",
      "include_colab_link": true
    },
    "kernelspec": {
      "name": "python3",
      "display_name": "Python 3"
    },
    "language_info": {
      "name": "python"
    }
  },
  "cells": [
    {
      "cell_type": "markdown",
      "metadata": {
        "id": "view-in-github",
        "colab_type": "text"
      },
      "source": [
        "<a href=\"https://colab.research.google.com/github/Iqbalmubarak/Big-Data/blob/main/1811523007_Tugas1_AbsenGanjil.ipynb\" target=\"_parent\"><img src=\"https://colab.research.google.com/assets/colab-badge.svg\" alt=\"Open In Colab\"/></a>"
      ]
    },
    {
      "cell_type": "markdown",
      "metadata": {
        "id": "f6ecrcSK47WG"
      },
      "source": [
        "IPython Magic Commands"
      ]
    },
    {
      "cell_type": "markdown",
      "metadata": {
        "id": "7fexdLno5A9K"
      },
      "source": [
        "Pasting Code Blocks: %paste and %cpaste"
      ]
    },
    {
      "cell_type": "code",
      "metadata": {
        "id": "B7ILkIe83Ttt"
      },
      "source": [
        ">>> def donothing(x):\n",
        "...     return x"
      ],
      "execution_count": 56,
      "outputs": []
    },
    {
      "cell_type": "code",
      "metadata": {
        "colab": {
          "base_uri": "https://localhost:8080/",
          "height": 131
        },
        "id": "dwK-WGfO3yrf",
        "outputId": "5e2c5fd9-d33c-4e8d-e705-c997640d7d4b"
      },
      "source": [
        ">>> def donothing(x):\n",
        " ...: ... return x\n",
        " ...:"
      ],
      "execution_count": 2,
      "outputs": [
        {
          "output_type": "error",
          "ename": "IndentationError",
          "evalue": "ignored",
          "traceback": [
            "\u001b[0;36m  File \u001b[0;32m\"<ipython-input-2-c399f7b64b81>\"\u001b[0;36m, line \u001b[0;32m2\u001b[0m\n\u001b[0;31m    ... return x\u001b[0m\n\u001b[0m      ^\u001b[0m\n\u001b[0;31mIndentationError\u001b[0m\u001b[0;31m:\u001b[0m expected an indented block\n"
          ]
        }
      ]
    },
    {
      "cell_type": "code",
      "metadata": {
        "colab": {
          "base_uri": "https://localhost:8080/",
          "height": 131
        },
        "id": "FehBlPx45h8K",
        "outputId": "d3fe8a5b-8478-4993-9eb5-dde88d336abf"
      },
      "source": [
        "%paste\n",
        ">>> def donothing(x):\n",
        "...     return x\n",
        "## -- End pasted text --"
      ],
      "execution_count": 11,
      "outputs": [
        {
          "output_type": "error",
          "ename": "SyntaxError",
          "evalue": "ignored",
          "traceback": [
            "\u001b[0;36m  File \u001b[0;32m\"<ipython-input-11-877bef590160>\"\u001b[0;36m, line \u001b[0;32m2\u001b[0m\n\u001b[0;31m    >>> def donothing(x):\u001b[0m\n\u001b[0m     ^\u001b[0m\n\u001b[0;31mSyntaxError\u001b[0m\u001b[0;31m:\u001b[0m invalid syntax\n"
          ]
        }
      ]
    },
    {
      "cell_type": "markdown",
      "metadata": {
        "id": "Cbp8g6NR6kj1"
      },
      "source": [
        "%paste tidak tersedia pada magic command colab"
      ]
    },
    {
      "cell_type": "code",
      "metadata": {
        "colab": {
          "base_uri": "https://localhost:8080/"
        },
        "id": "NwgvEkpX6Q69",
        "outputId": "cdc5cb8e-0437-4941-ea13-fd72aa46dd53"
      },
      "source": [
        "donothing(10)"
      ],
      "execution_count": 12,
      "outputs": [
        {
          "output_type": "execute_result",
          "data": {
            "text/plain": [
              "10"
            ]
          },
          "metadata": {
            "tags": []
          },
          "execution_count": 12
        }
      ]
    },
    {
      "cell_type": "markdown",
      "metadata": {
        "id": "D_dAXwfV7bCN"
      },
      "source": [
        "Running External Code: %run"
      ]
    },
    {
      "cell_type": "code",
      "metadata": {
        "colab": {
          "base_uri": "https://localhost:8080/"
        },
        "id": "XphQKxW67eTh",
        "outputId": "cab40434-830f-4f8f-8cd3-126bfe779854"
      },
      "source": [
        "def square(x):\n",
        " \"\"\"square a number\"\"\"\n",
        " return x ** 2\n",
        "for N in range(1, 4):\n",
        " print(N, \"squared is\", square(N))"
      ],
      "execution_count": 13,
      "outputs": [
        {
          "output_type": "stream",
          "text": [
            "1 squared is 1\n",
            "2 squared is 4\n",
            "3 squared is 9\n"
          ],
          "name": "stdout"
        }
      ]
    },
    {
      "cell_type": "code",
      "metadata": {
        "colab": {
          "base_uri": "https://localhost:8080/",
          "height": 131
        },
        "id": "Xil3gzIC7i4p",
        "outputId": "6405a12e-2b73-42a1-f798-e571ac139b87"
      },
      "source": [
        "%run myscript.py\n",
        "1 squared is 1\n",
        "2 squared is 4\n",
        "3 squared is 9"
      ],
      "execution_count": 15,
      "outputs": [
        {
          "output_type": "error",
          "ename": "SyntaxError",
          "evalue": "ignored",
          "traceback": [
            "\u001b[0;36m  File \u001b[0;32m\"<ipython-input-15-dd03d74e70f7>\"\u001b[0;36m, line \u001b[0;32m2\u001b[0m\n\u001b[0;31m    1 squared is 1\u001b[0m\n\u001b[0m            ^\u001b[0m\n\u001b[0;31mSyntaxError\u001b[0m\u001b[0;31m:\u001b[0m invalid syntax\n"
          ]
        }
      ]
    },
    {
      "cell_type": "code",
      "metadata": {
        "colab": {
          "base_uri": "https://localhost:8080/"
        },
        "id": "vc8WHmEo8B1v",
        "outputId": "9aac97ea-c6cf-4e78-a235-23b4c2a72f92"
      },
      "source": [
        "square(5)"
      ],
      "execution_count": 16,
      "outputs": [
        {
          "output_type": "execute_result",
          "data": {
            "text/plain": [
              "25"
            ]
          },
          "metadata": {
            "tags": []
          },
          "execution_count": 16
        }
      ]
    },
    {
      "cell_type": "markdown",
      "metadata": {
        "id": "egtHBdLi8Pob"
      },
      "source": [
        "Timing Code Execution: %timeit"
      ]
    },
    {
      "cell_type": "code",
      "metadata": {
        "colab": {
          "base_uri": "https://localhost:8080/"
        },
        "id": "5QPAW4tl8QOP",
        "outputId": "8e3b33e3-7b43-4cbc-b474-3c86c698a20b"
      },
      "source": [
        "%timeit L = [n ** 2 for n in range(1000)]"
      ],
      "execution_count": 18,
      "outputs": [
        {
          "output_type": "stream",
          "text": [
            "1000 loops, best of 5: 265 µs per loop\n"
          ],
          "name": "stdout"
        }
      ]
    },
    {
      "cell_type": "markdown",
      "metadata": {
        "id": "fVc6Uj428mFX"
      },
      "source": [
        "%timeit akan otomatis\n",
        "menentukan waktu eksekusi pernyataan Python baris tunggal yang mengikutinya"
      ]
    },
    {
      "cell_type": "code",
      "metadata": {
        "colab": {
          "base_uri": "https://localhost:8080/"
        },
        "id": "5tbqXM6w8rx0",
        "outputId": "8a59c33d-e7b5-4fb9-8e7b-abf6c4d1ca0d"
      },
      "source": [
        "%%timeit\n",
        "\n",
        "L = []\n",
        "\n",
        "for n in range(1000):\n",
        "  L.append(n ** 2)"
      ],
      "execution_count": 20,
      "outputs": [
        {
          "output_type": "stream",
          "text": [
            "1000 loops, best of 5: 303 µs per loop\n"
          ],
          "name": "stdout"
        }
      ]
    },
    {
      "cell_type": "markdown",
      "metadata": {
        "id": "u_X2kWzC9A3q"
      },
      "source": [
        "Dapat dilihat bahwa list comprehension lebih cepat dibandingkan dengna penggunaan tradisional for"
      ]
    },
    {
      "cell_type": "markdown",
      "metadata": {
        "id": "98UYLeee9E-H"
      },
      "source": [
        "**Help on Magic Functions: ?, %magic, and %lsmagic**"
      ]
    },
    {
      "cell_type": "code",
      "metadata": {
        "id": "Ea-Bhaoj9Bds"
      },
      "source": [
        "%timeit?"
      ],
      "execution_count": 21,
      "outputs": []
    },
    {
      "cell_type": "markdown",
      "metadata": {
        "id": "Mx_cElv49Y1i"
      },
      "source": [
        "Seperti fungsi Python normal, fungsi magic IPython memiliki dokumen, dan ini\n",
        "dokumentasi yang berguna dapat diakses dengan cara standar"
      ]
    },
    {
      "cell_type": "code",
      "metadata": {
        "id": "rK7-KA2n9bLn"
      },
      "source": [
        "%magic"
      ],
      "execution_count": 22,
      "outputs": []
    },
    {
      "cell_type": "code",
      "metadata": {
        "colab": {
          "base_uri": "https://localhost:8080/",
          "height": 159
        },
        "id": "L97fL1V99oHI",
        "outputId": "55da5999-ae9e-4369-fcf0-5d61ef08fd26"
      },
      "source": [
        "%lsmagic"
      ],
      "execution_count": 23,
      "outputs": [
        {
          "output_type": "execute_result",
          "data": {
            "application/json": {
              "cell": {
                "prun": "ExecutionMagics",
                "file": "Other",
                "!": "OSMagics",
                "capture": "ExecutionMagics",
                "timeit": "ExecutionMagics",
                "script": "ScriptMagics",
                "pypy": "Other",
                "system": "OSMagics",
                "perl": "Other",
                "html": "DisplayMagics",
                "bash": "Other",
                "shell": "Other",
                "HTML": "Other",
                "python": "Other",
                "SVG": "Other",
                "javascript": "DisplayMagics",
                "bigquery": "Other",
                "js": "DisplayMagics",
                "writefile": "OSMagics",
                "ruby": "Other",
                "python3": "Other",
                "python2": "Other",
                "latex": "DisplayMagics",
                "sx": "OSMagics",
                "svg": "DisplayMagics",
                "sh": "Other",
                "time": "ExecutionMagics",
                "debug": "ExecutionMagics"
              },
              "line": {
                "psource": "NamespaceMagics",
                "logstart": "LoggingMagics",
                "popd": "OSMagics",
                "tensorflow_version": "Other",
                "loadpy": "CodeMagics",
                "colors": "BasicMagics",
                "who_ls": "NamespaceMagics",
                "lf": "Other",
                "ll": "Other",
                "pprint": "BasicMagics",
                "lk": "Other",
                "ls": "Other",
                "save": "CodeMagics",
                "tb": "ExecutionMagics",
                "lx": "Other",
                "pylab": "PylabMagics",
                "killbgscripts": "ScriptMagics",
                "quickref": "BasicMagics",
                "magic": "BasicMagics",
                "dhist": "OSMagics",
                "edit": "KernelMagics",
                "logstop": "LoggingMagics",
                "gui": "BasicMagics",
                "prun": "ExecutionMagics",
                "debug": "ExecutionMagics",
                "page": "BasicMagics",
                "logstate": "LoggingMagics",
                "ed": "Other",
                "pushd": "OSMagics",
                "timeit": "ExecutionMagics",
                "set_env": "OSMagics",
                "rehashx": "OSMagics",
                "hist": "Other",
                "qtconsole": "KernelMagics",
                "rm": "Other",
                "dirs": "OSMagics",
                "run": "ExecutionMagics",
                "reset_selective": "NamespaceMagics",
                "pinfo2": "NamespaceMagics",
                "matplotlib": "PylabMagics",
                "unload_ext": "ExtensionMagics",
                "doctest_mode": "BasicMagics",
                "logoff": "LoggingMagics",
                "reload_ext": "ExtensionMagics",
                "pdb": "ExecutionMagics",
                "load": "CodeMagics",
                "lsmagic": "BasicMagics",
                "autosave": "KernelMagics",
                "cd": "OSMagics",
                "pastebin": "CodeMagics",
                "alias_magic": "BasicMagics",
                "cp": "Other",
                "autocall": "AutoMagics",
                "ldir": "Other",
                "bookmark": "OSMagics",
                "connect_info": "KernelMagics",
                "mkdir": "Other",
                "system": "OSMagics",
                "whos": "NamespaceMagics",
                "rmdir": "Other",
                "automagic": "AutoMagics",
                "store": "StoreMagics",
                "more": "KernelMagics",
                "shell": "Other",
                "pdef": "NamespaceMagics",
                "precision": "BasicMagics",
                "pinfo": "NamespaceMagics",
                "pwd": "OSMagics",
                "psearch": "NamespaceMagics",
                "reset": "NamespaceMagics",
                "recall": "HistoryMagics",
                "xdel": "NamespaceMagics",
                "xmode": "BasicMagics",
                "cat": "Other",
                "mv": "Other",
                "rerun": "HistoryMagics",
                "logon": "LoggingMagics",
                "history": "HistoryMagics",
                "pycat": "OSMagics",
                "pip": "Other",
                "unalias": "OSMagics",
                "env": "OSMagics",
                "load_ext": "ExtensionMagics",
                "config": "ConfigMagics",
                "profile": "BasicMagics",
                "pfile": "NamespaceMagics",
                "less": "KernelMagics",
                "who": "NamespaceMagics",
                "notebook": "BasicMagics",
                "man": "KernelMagics",
                "sx": "OSMagics",
                "macro": "ExecutionMagics",
                "clear": "KernelMagics",
                "alias": "OSMagics",
                "time": "ExecutionMagics",
                "sc": "OSMagics",
                "rep": "Other",
                "pdoc": "NamespaceMagics"
              }
            },
            "text/plain": [
              "Available line magics:\n",
              "%alias  %alias_magic  %autocall  %automagic  %autosave  %bookmark  %cat  %cd  %clear  %colors  %config  %connect_info  %cp  %debug  %dhist  %dirs  %doctest_mode  %ed  %edit  %env  %gui  %hist  %history  %killbgscripts  %ldir  %less  %lf  %lk  %ll  %load  %load_ext  %loadpy  %logoff  %logon  %logstart  %logstate  %logstop  %ls  %lsmagic  %lx  %macro  %magic  %man  %matplotlib  %mkdir  %more  %mv  %notebook  %page  %pastebin  %pdb  %pdef  %pdoc  %pfile  %pinfo  %pinfo2  %pip  %popd  %pprint  %precision  %profile  %prun  %psearch  %psource  %pushd  %pwd  %pycat  %pylab  %qtconsole  %quickref  %recall  %rehashx  %reload_ext  %rep  %rerun  %reset  %reset_selective  %rm  %rmdir  %run  %save  %sc  %set_env  %shell  %store  %sx  %system  %tb  %tensorflow_version  %time  %timeit  %unalias  %unload_ext  %who  %who_ls  %whos  %xdel  %xmode\n",
              "\n",
              "Available cell magics:\n",
              "%%!  %%HTML  %%SVG  %%bash  %%bigquery  %%capture  %%debug  %%file  %%html  %%javascript  %%js  %%latex  %%perl  %%prun  %%pypy  %%python  %%python2  %%python3  %%ruby  %%script  %%sh  %%shell  %%svg  %%sx  %%system  %%time  %%timeit  %%writefile\n",
              "\n",
              "Automagic is ON, % prefix IS NOT needed for line magics."
            ]
          },
          "metadata": {
            "tags": []
          },
          "execution_count": 23
        }
      ]
    },
    {
      "cell_type": "markdown",
      "metadata": {
        "id": "jI6MJg0x9w1z"
      },
      "source": [
        "# **Input and Output History**"
      ]
    },
    {
      "cell_type": "markdown",
      "metadata": {
        "id": "tr1FejSA96Po"
      },
      "source": [
        "**IPython’s In and Out Objects**"
      ]
    },
    {
      "cell_type": "code",
      "metadata": {
        "id": "Zo1tU2gr9-eK"
      },
      "source": [
        "import math"
      ],
      "execution_count": 24,
      "outputs": []
    },
    {
      "cell_type": "code",
      "metadata": {
        "colab": {
          "base_uri": "https://localhost:8080/"
        },
        "id": "iaZexZqv-B8e",
        "outputId": "f925a8bf-d6d1-4e00-92d4-3bfd71929acd"
      },
      "source": [
        "math.sin(2)"
      ],
      "execution_count": 25,
      "outputs": [
        {
          "output_type": "execute_result",
          "data": {
            "text/plain": [
              "0.9092974268256817"
            ]
          },
          "metadata": {
            "tags": []
          },
          "execution_count": 25
        }
      ]
    },
    {
      "cell_type": "code",
      "metadata": {
        "colab": {
          "base_uri": "https://localhost:8080/"
        },
        "id": "usg5ewXk-FnG",
        "outputId": "e113b9a6-69ab-4d27-ce4d-ce3ee61fb4a1"
      },
      "source": [
        "math.cos(2)"
      ],
      "execution_count": 26,
      "outputs": [
        {
          "output_type": "execute_result",
          "data": {
            "text/plain": [
              "-0.4161468365471424"
            ]
          },
          "metadata": {
            "tags": []
          },
          "execution_count": 26
        }
      ]
    },
    {
      "cell_type": "code",
      "metadata": {
        "colab": {
          "base_uri": "https://localhost:8080/"
        },
        "id": "iw_T0mKg-JRe",
        "outputId": "33aa123d-d34a-46fa-cc3b-ae84fb8067da"
      },
      "source": [
        "print(In)"
      ],
      "execution_count": 59,
      "outputs": [
        {
          "output_type": "stream",
          "text": [
            "['', 'def donothing(x):\\n    return x', 'def donothing(x):\\n... return x', \"get_ipython().magic('paste')\\n>>> def donothing(x):\\n... return x\", \"get_ipython().magic('paste')\\n>>> def donothing(x):\\n... return x\", \"get_ipython().magic('paste')\\n def donothing(x):\\n... return x\", \"get_ipython().magic('paste')\\n>>> def donothing(x):\\n... return x\", \"get_ipython().magic('paste')\\n>>> def donothing(x):\\n...     return x\\n## -- End pasted text --\\n\\ndonothing(10)\", \"get_ipython().magic('paste')\\n>>> def donothing(x):\\n...     return x\", \"get_ipython().magic('paste')\\ndef donothing(x):\\n    return x\", 'def donothing(x):\\n    return x', \"get_ipython().magic('paste')\\n>>> def donothing(x):\\n...     return x\\n## -- End pasted text --\", 'donothing(10)', 'def square(x):\\n \"\"\"square a number\"\"\"\\n return x ** 2\\nfor N in range(1, 4):\\n print(N, \"squared is\", square(N))', \"get_ipython().magic('run myscript.py')\\n1 squared is 1 2 squared is 4 3 squared is 9\", \"get_ipython().magic('run myscript.py')\\n1 squared is 1\\n2 squared is 4\\n3 squared is 9\", 'square(5)', \"get_ipython().magic('timeit L = [n ** 2 for n in range(1000)]')\\n1000 loops, best of 3: 325 µs per loop\", \"get_ipython().magic('timeit L = [n ** 2 for n in range(1000)]')\", \"get_ipython().run_cell_magic('timeit', '', ' ...: L = []\\\\n ...: for n in range(1000):\\\\n ...: L.append(n ** 2)')\", \"get_ipython().run_cell_magic('timeit', '', '\\\\nL = []\\\\n\\\\nfor n in range(1000):\\\\n  L.append(n ** 2)')\", \"get_ipython().magic('pinfo %timeit')\", \"get_ipython().magic('magic')\", \"get_ipython().magic('lsmagic')\", 'import math', 'math.sin(2)', 'math.cos(2)', 'print(In)', 'Out', 'print(In[1])', 'import math', 'import math', 'print(Out[2])', \"print(In)\\n['', 'import math', 'math.sin(2)', 'math.cos(2)', 'print(In)']\", 'Out', 'print(In[1])', 'print(In[2])', 'print(In[147])', 'print(In[1])', 'import math', 'print(Out[148])', 'print(Out[2])', 'import math', 'print(Out[2])', 'print(In[1])\\nimport math', 'print(In[1])', 'print(Out[2])', \"print(In)\\n['', 'import math', 'math.sin(2)', 'math.cos(2)', 'print(In)']\", 'Out', 'print(In[147])', 'print(In[1])', 'print(In[12])', 'print(Out[2])', 'print(Out[13])', 'print(Out[1])', 'print(Out[13])', 'def donothing(x):\\n    return x', 'Out[2] ** 2 + Out[3] ** 2', 'Out[12] ** 2 + Out[13] ** 2', 'print(In)']\n"
          ],
          "name": "stdout"
        }
      ]
    },
    {
      "cell_type": "code",
      "metadata": {
        "colab": {
          "base_uri": "https://localhost:8080/"
        },
        "id": "BCai1e_I-Sbi",
        "outputId": "ae293dd5-597d-4e76-8293-e65b9a8445bf"
      },
      "source": [
        "Out"
      ],
      "execution_count": 48,
      "outputs": [
        {
          "output_type": "execute_result",
          "data": {
            "text/plain": [
              "{12: 10,\n",
              " 16: 25,\n",
              " 23: Available line magics:\n",
              "%alias  %alias_magic  %autocall  %automagic  %autosave  %bookmark  %cat  %cd  %clear  %colors  %config  %connect_info  %cp  %debug  %dhist  %dirs  %doctest_mode  %ed  %edit  %env  %gui  %hist  %history  %killbgscripts  %ldir  %less  %lf  %lk  %ll  %load  %load_ext  %loadpy  %logoff  %logon  %logstart  %logstate  %logstop  %ls  %lsmagic  %lx  %macro  %magic  %man  %matplotlib  %mkdir  %more  %mv  %notebook  %page  %pastebin  %pdb  %pdef  %pdoc  %pfile  %pinfo  %pinfo2  %pip  %popd  %pprint  %precision  %profile  %prun  %psearch  %psource  %pushd  %pwd  %pycat  %pylab  %qtconsole  %quickref  %recall  %rehashx  %reload_ext  %rep  %rerun  %reset  %reset_selective  %rm  %rmdir  %run  %save  %sc  %set_env  %shell  %store  %sx  %system  %tb  %tensorflow_version  %time  %timeit  %unalias  %unload_ext  %who  %who_ls  %whos  %xdel  %xmode\n",
              "\n",
              "Available cell magics:\n",
              "%%!  %%HTML  %%SVG  %%bash  %%bigquery  %%capture  %%debug  %%file  %%html  %%javascript  %%js  %%latex  %%perl  %%prun  %%pypy  %%python  %%python2  %%python3  %%ruby  %%script  %%sh  %%shell  %%svg  %%sx  %%system  %%time  %%timeit  %%writefile\n",
              "\n",
              "Automagic is ON, % prefix IS NOT needed for line magics.,\n",
              " 25: 0.9092974268256817,\n",
              " 26: -0.4161468365471424,\n",
              " 33: ['', 'import math', 'math.sin(2)', 'math.cos(2)', 'print(In)'],\n",
              " 47: ['', 'import math', 'math.sin(2)', 'math.cos(2)', 'print(In)']}"
            ]
          },
          "metadata": {
            "tags": []
          },
          "execution_count": 48
        }
      ]
    },
    {
      "cell_type": "code",
      "metadata": {
        "colab": {
          "base_uri": "https://localhost:8080/"
        },
        "id": "OcUxeO4G-UWF",
        "outputId": "7e5fe684-be3c-4b9e-ddb9-5dba523f90fd"
      },
      "source": [
        "print(In[12])"
      ],
      "execution_count": 60,
      "outputs": [
        {
          "output_type": "stream",
          "text": [
            "donothing(10)\n"
          ],
          "name": "stdout"
        }
      ]
    },
    {
      "cell_type": "code",
      "metadata": {
        "colab": {
          "base_uri": "https://localhost:8080/",
          "height": 166
        },
        "id": "rIeSrX5A-XQF",
        "outputId": "d8556363-1462-4aee-b592-29d52ade5bcc"
      },
      "source": [
        "print(Out[13])"
      ],
      "execution_count": 61,
      "outputs": [
        {
          "output_type": "error",
          "ename": "KeyError",
          "evalue": "ignored",
          "traceback": [
            "\u001b[0;31m---------------------------------------------------------------------------\u001b[0m",
            "\u001b[0;31mKeyError\u001b[0m                                  Traceback (most recent call last)",
            "\u001b[0;32m<ipython-input-61-4b814e793fee>\u001b[0m in \u001b[0;36m<module>\u001b[0;34m()\u001b[0m\n\u001b[0;32m----> 1\u001b[0;31m \u001b[0mprint\u001b[0m\u001b[0;34m(\u001b[0m\u001b[0mOut\u001b[0m\u001b[0;34m[\u001b[0m\u001b[0;36m13\u001b[0m\u001b[0;34m]\u001b[0m\u001b[0;34m)\u001b[0m\u001b[0;34m\u001b[0m\u001b[0;34m\u001b[0m\u001b[0m\n\u001b[0m",
            "\u001b[0;31mKeyError\u001b[0m: 13"
          ]
        }
      ]
    },
    {
      "cell_type": "code",
      "metadata": {
        "colab": {
          "base_uri": "https://localhost:8080/",
          "height": 166
        },
        "id": "caN8LTHa-gMR",
        "outputId": "e0bb8f59-3636-4dec-d4b9-9ce65496f814"
      },
      "source": [
        "Out[12] ** 2 + Out[13] ** 2"
      ],
      "execution_count": 58,
      "outputs": [
        {
          "output_type": "error",
          "ename": "KeyError",
          "evalue": "ignored",
          "traceback": [
            "\u001b[0;31m---------------------------------------------------------------------------\u001b[0m",
            "\u001b[0;31mKeyError\u001b[0m                                  Traceback (most recent call last)",
            "\u001b[0;32m<ipython-input-58-7e752c650962>\u001b[0m in \u001b[0;36m<module>\u001b[0;34m()\u001b[0m\n\u001b[0;32m----> 1\u001b[0;31m \u001b[0mOut\u001b[0m\u001b[0;34m[\u001b[0m\u001b[0;36m12\u001b[0m\u001b[0;34m]\u001b[0m \u001b[0;34m**\u001b[0m \u001b[0;36m2\u001b[0m \u001b[0;34m+\u001b[0m \u001b[0mOut\u001b[0m\u001b[0;34m[\u001b[0m\u001b[0;36m13\u001b[0m\u001b[0;34m]\u001b[0m \u001b[0;34m**\u001b[0m \u001b[0;36m2\u001b[0m\u001b[0;34m\u001b[0m\u001b[0;34m\u001b[0m\u001b[0m\n\u001b[0m",
            "\u001b[0;31mKeyError\u001b[0m: 13"
          ]
        }
      ]
    },
    {
      "cell_type": "markdown",
      "metadata": {
        "id": "22wlNMBqBKaF"
      },
      "source": [
        "\n",
        "**# Underscore Shortcuts and Previous Outputs**\n",
        "Perintah yang digunakan pada shell untuk mengakases output sebelumnya ialah _, namun pada IPython kita dapat menggunaakn __ untuk mengakses output dua terakhir. Juga akan lebih mudah jika menggunakan _X dimana X merupakan nomor output"
      ]
    },
    {
      "cell_type": "code",
      "metadata": {
        "colab": {
          "base_uri": "https://localhost:8080/"
        },
        "id": "5i8x-vRpAtvu",
        "outputId": "54649f70-3788-4562-c606-bfdc28769e17"
      },
      "source": [
        "print(_)"
      ],
      "execution_count": 62,
      "outputs": [
        {
          "output_type": "stream",
          "text": [
            "['', 'import math', 'math.sin(2)', 'math.cos(2)', 'print(In)']\n"
          ],
          "name": "stdout"
        }
      ]
    },
    {
      "cell_type": "code",
      "metadata": {
        "colab": {
          "base_uri": "https://localhost:8080/"
        },
        "id": "2CX_nnf2A1Zj",
        "outputId": "172d6a6b-a2d8-4c22-dbc2-221b801a41a9"
      },
      "source": [
        "print(__)"
      ],
      "execution_count": 67,
      "outputs": [
        {
          "output_type": "stream",
          "text": [
            "['', 'import math', 'math.sin(2)', 'math.cos(2)', 'print(In)']\n"
          ],
          "name": "stdout"
        }
      ]
    },
    {
      "cell_type": "code",
      "metadata": {
        "colab": {
          "base_uri": "https://localhost:8080/"
        },
        "id": "RdGRtZjKA39L",
        "outputId": "f8607a4c-5712-476a-a0a3-4eda1df1754e"
      },
      "source": [
        "print(___)"
      ],
      "execution_count": 64,
      "outputs": [
        {
          "output_type": "stream",
          "text": [
            "-0.4161468365471424\n"
          ],
          "name": "stdout"
        }
      ]
    },
    {
      "cell_type": "code",
      "metadata": {
        "colab": {
          "base_uri": "https://localhost:8080/",
          "height": 166
        },
        "id": "xBwZw2C8BUZr",
        "outputId": "3b4db392-e538-4c10-e3d6-94ff04a48308"
      },
      "source": [
        "Out[3]"
      ],
      "execution_count": 69,
      "outputs": [
        {
          "output_type": "error",
          "ename": "KeyError",
          "evalue": "ignored",
          "traceback": [
            "\u001b[0;31m---------------------------------------------------------------------------\u001b[0m",
            "\u001b[0;31mKeyError\u001b[0m                                  Traceback (most recent call last)",
            "\u001b[0;32m<ipython-input-69-e1b1ede0ba6e>\u001b[0m in \u001b[0;36m<module>\u001b[0;34m()\u001b[0m\n\u001b[0;32m----> 1\u001b[0;31m \u001b[0mOut\u001b[0m\u001b[0;34m[\u001b[0m\u001b[0;36m3\u001b[0m\u001b[0;34m]\u001b[0m\u001b[0;34m\u001b[0m\u001b[0;34m\u001b[0m\u001b[0m\n\u001b[0m",
            "\u001b[0;31mKeyError\u001b[0m: 3"
          ]
        }
      ]
    },
    {
      "cell_type": "code",
      "metadata": {
        "colab": {
          "base_uri": "https://localhost:8080/",
          "height": 166
        },
        "id": "tWzeKr4cBYIF",
        "outputId": "6efaac70-120a-4b10-c9d0-d490a3c089c2"
      },
      "source": [
        "_2"
      ],
      "execution_count": 73,
      "outputs": [
        {
          "output_type": "error",
          "ename": "NameError",
          "evalue": "ignored",
          "traceback": [
            "\u001b[0;31m---------------------------------------------------------------------------\u001b[0m",
            "\u001b[0;31mNameError\u001b[0m                                 Traceback (most recent call last)",
            "\u001b[0;32m<ipython-input-73-725b9f20c2d7>\u001b[0m in \u001b[0;36m<module>\u001b[0;34m()\u001b[0m\n\u001b[0;32m----> 1\u001b[0;31m \u001b[0m_2\u001b[0m\u001b[0;34m\u001b[0m\u001b[0;34m\u001b[0m\u001b[0m\n\u001b[0m",
            "\u001b[0;31mNameError\u001b[0m: name '_2' is not defined"
          ]
        }
      ]
    },
    {
      "cell_type": "markdown",
      "metadata": {
        "id": "6LTIf5BRBi0D"
      },
      "source": [
        "# **Suppressing Output**\n",
        "\n",
        "Cara termudah untuk menekan keluaran dari sebuah perintah adalah dengan menambahkan titik koma"
      ]
    },
    {
      "cell_type": "code",
      "metadata": {
        "id": "XADsvANRBqSx"
      },
      "source": [
        "math.sin(2) + math.cos(2);"
      ],
      "execution_count": 75,
      "outputs": []
    },
    {
      "cell_type": "code",
      "metadata": {
        "colab": {
          "base_uri": "https://localhost:8080/"
        },
        "id": "QU804QC9Bwba",
        "outputId": "83700862-1c54-44a3-b8dd-a1232c4677d4"
      },
      "source": [
        "14 in Out"
      ],
      "execution_count": 76,
      "outputs": [
        {
          "output_type": "execute_result",
          "data": {
            "text/plain": [
              "False"
            ]
          },
          "metadata": {
            "tags": []
          },
          "execution_count": 76
        }
      ]
    },
    {
      "cell_type": "markdown",
      "metadata": {
        "id": "Nf7SnZzEB385"
      },
      "source": [
        "# **Related Magic Commands**"
      ]
    },
    {
      "cell_type": "code",
      "metadata": {
        "colab": {
          "base_uri": "https://localhost:8080/"
        },
        "id": "cpIvB4hqB6Bv",
        "outputId": "f689ca9e-8c72-4ed9-8606-5a82aa221619"
      },
      "source": [
        "%history -n 1-4"
      ],
      "execution_count": 77,
      "outputs": [
        {
          "output_type": "stream",
          "text": [
            "   1:\n",
            ">>> def donothing(x):\n",
            "...     return x\n",
            "   2:\n",
            ">>> def donothing(x):\n",
            " ...: ... return x\n",
            " ...:\n",
            "   3:\n",
            " %paste\n",
            ">>> def donothing(x):\n",
            "... return x\n",
            "   4:\n",
            "%paste\n",
            ">>> def donothing(x):\n",
            "... return x\n"
          ],
          "name": "stdout"
        }
      ]
    },
    {
      "cell_type": "markdown",
      "metadata": {
        "id": "NOlCi3DsCFUA"
      },
      "source": [
        "\n",
        "# **IPython and Shell Commands**\n",
        "**Shell Command in Python**\n",
        "\n",
        "Kita dapat menggunakan perintah apa pun yang berfungsi pada baris perintah di IPython dengan mengawalnya dengan ! karakter. Misalnya, perintah ls, pwd, dan echo dapat dijalankan sebagai berikut:"
      ]
    },
    {
      "cell_type": "code",
      "metadata": {
        "colab": {
          "base_uri": "https://localhost:8080/"
        },
        "id": "OyUXPOnoCMyS",
        "outputId": "7ebd7a53-61a3-42a8-a2ca-b2a9f35c611d"
      },
      "source": [
        "# ls = list working directory contents\n",
        "!ls"
      ],
      "execution_count": 78,
      "outputs": [
        {
          "output_type": "stream",
          "text": [
            "sample_data\n"
          ],
          "name": "stdout"
        }
      ]
    },
    {
      "cell_type": "code",
      "metadata": {
        "colab": {
          "base_uri": "https://localhost:8080/"
        },
        "id": "WkcPluilCiae",
        "outputId": "fb456e12-d83a-401e-ad34-47403dfb010b"
      },
      "source": [
        "!pwd"
      ],
      "execution_count": 79,
      "outputs": [
        {
          "output_type": "stream",
          "text": [
            "/content\n"
          ],
          "name": "stdout"
        }
      ]
    },
    {
      "cell_type": "code",
      "metadata": {
        "colab": {
          "base_uri": "https://localhost:8080/"
        },
        "id": "3TCwf0VUCl6n",
        "outputId": "d6d3d40b-b6af-40ce-b054-ee463efe8f26"
      },
      "source": [
        "!echo \"printing from shell\""
      ],
      "execution_count": 80,
      "outputs": [
        {
          "output_type": "stream",
          "text": [
            "printing from shell\n"
          ],
          "name": "stdout"
        }
      ]
    },
    {
      "cell_type": "markdown",
      "metadata": {
        "id": "w3U8VqYxCtDi"
      },
      "source": [
        "**Passing Values to and from the Shell**\n",
        "\n",
        "kita dapat menggunakan nilai yang kita dapatkan pada shell ke IPhyton begitu juga sebaliknya"
      ]
    },
    {
      "cell_type": "code",
      "metadata": {
        "id": "DmZuUhr4CoXt"
      },
      "source": [
        "contents = !ls"
      ],
      "execution_count": 81,
      "outputs": []
    },
    {
      "cell_type": "code",
      "metadata": {
        "colab": {
          "base_uri": "https://localhost:8080/"
        },
        "id": "FgxZKYXFC0ft",
        "outputId": "7e84827b-a856-4b04-a480-2172e6a24396"
      },
      "source": [
        "print(contents)"
      ],
      "execution_count": 82,
      "outputs": [
        {
          "output_type": "stream",
          "text": [
            "['sample_data']\n"
          ],
          "name": "stdout"
        }
      ]
    },
    {
      "cell_type": "code",
      "metadata": {
        "id": "fjDcHkcOC2w6"
      },
      "source": [
        "directory = !pwd"
      ],
      "execution_count": 84,
      "outputs": []
    },
    {
      "cell_type": "code",
      "metadata": {
        "colab": {
          "base_uri": "https://localhost:8080/"
        },
        "id": "9EU3oUoODFXt",
        "outputId": "09439d5e-071d-47b8-f18e-8d6da31c8e99"
      },
      "source": [
        "print(directory)"
      ],
      "execution_count": 85,
      "outputs": [
        {
          "output_type": "stream",
          "text": [
            "['/content']\n"
          ],
          "name": "stdout"
        }
      ]
    },
    {
      "cell_type": "code",
      "metadata": {
        "colab": {
          "base_uri": "https://localhost:8080/"
        },
        "id": "r2QZpYckDIZ3",
        "outputId": "9a9986f7-ddfd-4d8e-85aa-a77b9a47687a"
      },
      "source": [
        "type(directory)"
      ],
      "execution_count": 86,
      "outputs": [
        {
          "output_type": "execute_result",
          "data": {
            "text/plain": [
              "IPython.utils.text.SList"
            ]
          },
          "metadata": {
            "tags": []
          },
          "execution_count": 86
        }
      ]
    },
    {
      "cell_type": "code",
      "metadata": {
        "id": "Y3656a9gDOEn"
      },
      "source": [
        "message = \"hello from Python\""
      ],
      "execution_count": 87,
      "outputs": []
    },
    {
      "cell_type": "code",
      "metadata": {
        "colab": {
          "base_uri": "https://localhost:8080/"
        },
        "id": "0BvuqjOPDTD3",
        "outputId": "6fa6cd63-1757-4d68-b0c7-bf89d83bc2a0"
      },
      "source": [
        "!echo {message}"
      ],
      "execution_count": 88,
      "outputs": [
        {
          "output_type": "stream",
          "text": [
            "hello from Python\n"
          ],
          "name": "stdout"
        }
      ]
    },
    {
      "cell_type": "markdown",
      "metadata": {
        "id": "vMpC4QpBDX_m"
      },
      "source": [
        "# **Shell-Related Magic Commands**"
      ]
    },
    {
      "cell_type": "code",
      "metadata": {
        "colab": {
          "base_uri": "https://localhost:8080/"
        },
        "id": "52DLWH_IDajg",
        "outputId": "07ffe9e1-3cfe-4fd5-a976-db21b2b949f9"
      },
      "source": [
        "!pwd"
      ],
      "execution_count": 89,
      "outputs": [
        {
          "output_type": "stream",
          "text": [
            "/content\n"
          ],
          "name": "stdout"
        }
      ]
    },
    {
      "cell_type": "code",
      "metadata": {
        "id": "Nh69mgjuDdD7"
      },
      "source": [
        "!cd .."
      ],
      "execution_count": 90,
      "outputs": []
    },
    {
      "cell_type": "code",
      "metadata": {
        "colab": {
          "base_uri": "https://localhost:8080/"
        },
        "id": "J0SBmn1mDin2",
        "outputId": "f19f767f-8dc5-4e58-afe1-cc3c4f120a67"
      },
      "source": [
        "!pwd"
      ],
      "execution_count": 91,
      "outputs": [
        {
          "output_type": "stream",
          "text": [
            "/content\n"
          ],
          "name": "stdout"
        }
      ]
    },
    {
      "cell_type": "code",
      "metadata": {
        "colab": {
          "base_uri": "https://localhost:8080/"
        },
        "id": "ndH8YvuwDpC9",
        "outputId": "edf25971-9a0d-4984-d0de-f68651e1f62a"
      },
      "source": [
        "%cd .."
      ],
      "execution_count": 93,
      "outputs": [
        {
          "output_type": "stream",
          "text": [
            "/\n"
          ],
          "name": "stdout"
        }
      ]
    },
    {
      "cell_type": "code",
      "metadata": {
        "colab": {
          "base_uri": "https://localhost:8080/"
        },
        "id": "3FEoMwGJDrEJ",
        "outputId": "3973cb0d-6914-46be-a2aa-20f5fded67e5"
      },
      "source": [
        "cd content"
      ],
      "execution_count": 94,
      "outputs": [
        {
          "output_type": "stream",
          "text": [
            "/content\n"
          ],
          "name": "stdout"
        }
      ]
    },
    {
      "cell_type": "code",
      "metadata": {
        "id": "uR5akkJrDtEj"
      },
      "source": [
        "mkdir tmp"
      ],
      "execution_count": 95,
      "outputs": []
    },
    {
      "cell_type": "code",
      "metadata": {
        "colab": {
          "base_uri": "https://localhost:8080/"
        },
        "id": "hk9_sM2XDxIp",
        "outputId": "8281dc9b-ec1b-4fb7-aa02-1348260b13d4"
      },
      "source": [
        "ls"
      ],
      "execution_count": 96,
      "outputs": [
        {
          "output_type": "stream",
          "text": [
            "\u001b[0m\u001b[01;34msample_data\u001b[0m/  \u001b[01;34mtmp\u001b[0m/\n"
          ],
          "name": "stdout"
        }
      ]
    },
    {
      "cell_type": "code",
      "metadata": {
        "colab": {
          "base_uri": "https://localhost:8080/"
        },
        "id": "9ogh1NivECgP",
        "outputId": "051e3674-ec29-48df-ec1c-fef3c90a675a"
      },
      "source": [
        "cp myproject.txt tmp/"
      ],
      "execution_count": 102,
      "outputs": [
        {
          "output_type": "stream",
          "text": [
            "cp: cannot stat 'myproject.txt': No such file or directory\n"
          ],
          "name": "stdout"
        }
      ]
    },
    {
      "cell_type": "code",
      "metadata": {
        "colab": {
          "base_uri": "https://localhost:8080/"
        },
        "id": "DbYJfB4DEIHz",
        "outputId": "5ebe6415-af13-4de8-ce0a-e7f7c12418cf"
      },
      "source": [
        "ls tmp"
      ],
      "execution_count": 100,
      "outputs": [
        {
          "output_type": "stream",
          "text": [
            "dap_multiplexer.7cb555ce352d.root.log.INFO.20210411-165741.51\n",
            "\u001b[0m\u001b[01;36mdap_multiplexer.INFO\u001b[0m@\n",
            "\u001b[01;35mdebugger_1mthe8cq45\u001b[0m=\n",
            "\u001b[01;34minitgoogle_syslog_dir.0\u001b[0m/\n"
          ],
          "name": "stdout"
        }
      ]
    },
    {
      "cell_type": "code",
      "metadata": {
        "id": "I-YXOFlkEMYL"
      },
      "source": [
        "rm -r tmp"
      ],
      "execution_count": 101,
      "outputs": []
    }
  ]
}